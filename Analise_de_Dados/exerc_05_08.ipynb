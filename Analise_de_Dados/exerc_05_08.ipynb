{
 "cells": [
  {
   "cell_type": "code",
   "execution_count": null,
   "id": "16e55688",
   "metadata": {},
   "outputs": [
    {
     "name": "stdout",
     "output_type": "stream",
     "text": [
      "159.0\n"
     ]
    }
   ],
   "source": [
    "# Crie um programa que calcule a média do valor de um produto durante os sete dias da semana, os valores de venda são: 127, 90, 201, 150, 210, 220, 115 cada valor representa um dia da semana, calcule a média e exiba o seu valor. dados = [127, 90, 201, 150, 210, 220, 115]\n",
    "import numpy as np\n",
    "\n",
    "dados = np.array([127, 90, 201, 150, 210, 220, 115])\n",
    "\n",
    "\n",
    "print(np.mean(dados))"
   ]
  },
  {
   "cell_type": "code",
   "execution_count": 14,
   "id": "4202f3d5",
   "metadata": {},
   "outputs": [
    {
     "name": "stdout",
     "output_type": "stream",
     "text": [
      "0.6500000000000021\n"
     ]
    }
   ],
   "source": [
    "# Crie um programa que calcule o valor máximo, o mínimo e a variação dos valores de uma ação durante a semana, os valores da ação foram: 31.40, 31.32, 30.95, 31.20, 31.60, 31.50, esses valores estão em um array.\n",
    "\n",
    "valor_acao = np.array([31.40, 31.32, 30.95, 31.20, 31.60, 31.50])\n",
    "\n",
    "maior = np.max(valor_acao)\n",
    "menor = np.min(valor_acao)\n",
    "\n",
    "variacao = maior - menor\n",
    "\n",
    "print(variacao)"
   ]
  },
  {
   "cell_type": "code",
   "execution_count": 16,
   "id": "52ff8be2",
   "metadata": {},
   "outputs": [
    {
     "name": "stdout",
     "output_type": "stream",
     "text": [
      "[500 600 100]\n",
      "1200\n"
     ]
    }
   ],
   "source": [
    "#  Crie um programa que calcule o valor de vendas do dia de cada produto, os produtos são a, b, c e os valores são 100, 200 e 50 e a quantidade vendida foi 5, 3 e 2.\n",
    "\n",
    "quantidade = np.array([5, 3, 2])\n",
    "\n",
    "valores = np.array([100, 200, 50])\n",
    "\n",
    "total = np.dot(quantidade, valores)\n",
    "\n",
    "total_produto = quantidade * valores\n",
    "\n",
    "print(total_produto)\n",
    "print(total)"
   ]
  },
  {
   "cell_type": "code",
   "execution_count": 3,
   "id": "0de1cb76",
   "metadata": {},
   "outputs": [
    {
     "name": "stdout",
     "output_type": "stream",
     "text": [
      "5\n"
     ]
    }
   ],
   "source": [
    "# 1\n",
    "\n",
    "salarios = np.array([3000, 2500, 3500, 4000, 2000, 4500, 3000, 3800, 4800])\n",
    "\n",
    "media = np.mean(salarios)\n",
    "\n",
    "# quantidade = 0\n",
    "\n",
    "# for i in salarios:\n",
    "#     if i > media:\n",
    "#         quantidade += 1\n",
    "# print(quantidade)\n",
    "\n",
    "acima_media = np.sum(salarios > media)\n",
    "\n",
    "print(acima_media)"
   ]
  },
  {
   "cell_type": "code",
   "execution_count": 2,
   "id": "48a98ace",
   "metadata": {},
   "outputs": [
    {
     "name": "stdout",
     "output_type": "stream",
     "text": [
      "[5.5 5.7 5.9 6.  5.8 5.6 5.7 7.2 4.8]\n",
      "[5.5 5.7 5.9 6.  5.8 5.6 5.7 7.2 4.8]\n"
     ]
    }
   ],
   "source": [
    "# 2 Você é um engenheiro de produção e tem os tempos de ciclo (em minutos) de uma linha de produção em um array numpy. Crie um programa que identifique quaisquer tempos de ciclo que estão dois desvios abaixo\n",
    "\n",
    "import numpy as np\n",
    "t_ciclos = np.array([5.5, 5.7, 5.9, 6.0, 5.8, 5.6, 5.7, 7.2, 4.8])\n",
    "\n",
    "media = np.mean(t_ciclos)\n",
    "\n",
    "desvio = np.std(t_ciclos)\n",
    "\n",
    "# acima = media + 2 * desvio\n",
    "# abaixo = media - 2 * desvio\n",
    "\n",
    "cond = (t_ciclos > media + 2 * desvio) | (t_ciclos > media - 2 * desvio)\n",
    "\n",
    "valores = np.where(cond)\n",
    "\n",
    "print(t_ciclos[valores])\n",
    "print(t_ciclos[cond])"
   ]
  }
 ],
 "metadata": {
  "kernelspec": {
   "display_name": "Python (analise_dados)",
   "language": "python",
   "name": "venv"
  },
  "language_info": {
   "codemirror_mode": {
    "name": "ipython",
    "version": 3
   },
   "file_extension": ".py",
   "mimetype": "text/x-python",
   "name": "python",
   "nbconvert_exporter": "python",
   "pygments_lexer": "ipython3",
   "version": "3.13.5"
  }
 },
 "nbformat": 4,
 "nbformat_minor": 5
}
