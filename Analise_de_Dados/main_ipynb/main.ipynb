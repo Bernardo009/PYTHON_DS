{
 "cells": [
  {
   "cell_type": "code",
   "execution_count": null,
   "id": "412e32f1",
   "metadata": {},
   "outputs": [],
   "source": [
    "import numpy as np\n",
    "\n",
    "lista = [1, 2, 3, 4, 5]\n",
    "\n",
    "array = np.array([1, 2.55, 3.47, 4, 5])\n",
    "\n",
    "print(array)\n",
    "print(lista)"
   ]
  },
  {
   "cell_type": "code",
   "execution_count": null,
   "id": "8746d7ca",
   "metadata": {},
   "outputs": [
    {
     "name": "stdout",
     "output_type": "stream",
     "text": [
      "[6 7 8]\n"
     ]
    }
   ],
   "source": [
    "import numpy as np\n",
    "\n",
    "lista = [1, 2, 3]\n",
    "\n",
    "array = np.array([1, 2, 3])\n",
    "\n",
    "novo_array = array + 5\n",
    "\n",
    "print(novo_array)\n",
    "\n",
    "# nova_lista = lista + 5\n",
    "\n",
    "# print(nova_lista)"
   ]
  },
  {
   "cell_type": "code",
   "execution_count": null,
   "id": "210d5af9",
   "metadata": {},
   "outputs": [],
   "source": [
    "import numpy as np\n",
    "\n",
    "array = np.array([1, 2, 3, 4, 5, 6, 7, 8, 9])\n",
    "\n",
    "print(array[0::2])"
   ]
  },
  {
   "cell_type": "code",
   "execution_count": 9,
   "id": "d19c5c66",
   "metadata": {},
   "outputs": [
    {
     "name": "stdout",
     "output_type": "stream",
     "text": [
      "[22.  27.5 33.  38.5 44. ]\n"
     ]
    }
   ],
   "source": [
    "import numpy as np\n",
    "\n",
    "valores = np.array([20, 25, 30, 35, 40])\n",
    "\n",
    "lista_valores = valores * 1.1\n",
    "\n",
    "print(lista_valores)"
   ]
  },
  {
   "cell_type": "code",
   "execution_count": null,
   "id": "df03bad4",
   "metadata": {},
   "outputs": [],
   "source": [
    "import numpy as np\n",
    "\n",
    "valores = np.array([20, 25, 30, 35, 40])\n",
    "\n",
    "\n",
    "print(np.sum(valores))\n",
    "\n",
    "\n",
    "valores = np.array([20, 25, 30, 35, 40])\n",
    "\n",
    "\n",
    "print(np.sum(valores))\n",
    "print(np.mean(valores))\n",
    "\n",
    "\n",
    "print(np.max(valores))\n",
    "print(np.min(valores))"
   ]
  },
  {
   "cell_type": "code",
   "execution_count": null,
   "id": "c52ba0a8",
   "metadata": {},
   "outputs": [],
   "source": [
    "import numpy as np\n",
    "\n",
    "valores = np.array([40, 30, 25, 35, 20])\n",
    "\n",
    "\n",
    "print(np.sort(valores))"
   ]
  },
  {
   "cell_type": "code",
   "execution_count": null,
   "id": "5a5a71e3",
   "metadata": {},
   "outputs": [],
   "source": [
    "import numpy as np\n",
    "\n",
    "quantidade = np.array([10, 20, 30, 40])\n",
    "\n",
    "\n",
    "preco_unit = np.array([5, 10, 15, 20])\n",
    "\n",
    "\n",
    "print(np.sum(quantidade * preco_unit))\n",
    "\n",
    "\n",
    "print(np.dot(quantidade, preco_unit))"
   ]
  },
  {
   "cell_type": "code",
   "execution_count": null,
   "id": "3a0872b6",
   "metadata": {},
   "outputs": [],
   "source": [
    "import numpy as np\n",
    "\n",
    "# valores aleatorios\n",
    "\n",
    "\n",
    "rng = np.random.default_rng()  # random generator\n",
    "\n",
    "\n",
    "num = rng.random(7) * 10  # entre 0 e 1\n",
    "\n",
    "\n",
    "print(f\"{num:.2f}\")  # or print(num)\n",
    "\n",
    "\n",
    "rng = np.random.default_rng()  # random generator\n",
    "\n",
    "\n",
    "num = rng.random(7) * 10  # entre 0 e 1\n",
    "\n",
    "print(num)\n",
    "\n",
    "\n",
    "rng = np.random.default_rng()  # random generator\n",
    "\n",
    "\n",
    "dados = rng.integers(low=50, high=200, size=30)\n",
    "\n",
    "print(dados)"
   ]
  },
  {
   "cell_type": "code",
   "execution_count": null,
   "id": "57ee81c7",
   "metadata": {},
   "outputs": [],
   "source": [
    "import numpy as np\n",
    "\n",
    "# funçoes de estatistica\n",
    "\n",
    "\n",
    "rng = np.random.default_rng()  # random generator\n",
    "\n",
    "\n",
    "dados = rng.integers(low=50, high=200, size=30)\n",
    "\n",
    "np.median(dados)  # mediana\n",
    "np.percentile(dados)  # percentil\n",
    "\n",
    "\n",
    "np.std(dados)  # desvio padrão\n",
    "\n",
    "\n",
    "np.var(dados)  # variancia"
   ]
  },
  {
   "cell_type": "code",
   "execution_count": null,
   "id": "6b9b5747",
   "metadata": {},
   "outputs": [
    {
     "name": "stdout",
     "output_type": "stream",
     "text": [
      "[4000 4500 4000 5000]\n",
      "[4500 5000]\n",
      "(array([2, 4, 5, 6]),)\n",
      "[4000 4500 4000 5000]\n",
      "['Abaixo da Média' 'Abaixo da Média' 'Acima da média' 'Abaixo da Média'\n",
      " 'Acima da média' 'Acima da média' 'Acima da média']\n",
      "[3300. 3850. 4400. 2000. 4950. 4400. 5000.]\n"
     ]
    }
   ],
   "source": [
    "import numpy as np\n",
    "\n",
    "# filtros e np.where\n",
    "\n",
    "\n",
    "salarios = np.array([3000, 3500, 4000, 2000, 4500, 4000, 5000])\n",
    "\n",
    "\n",
    "media = np.mean(salarios)\n",
    "\n",
    "\n",
    "print(salarios[salarios > media])\n",
    "\n",
    "\n",
    "print(salarios[salarios > 4000])\n",
    "\n",
    "\n",
    "funcionarios = np.where(salarios > media)\n",
    "\n",
    "\n",
    "print(funcionarios)\n",
    "\n",
    "\n",
    "print(salarios[funcionarios])\n",
    "\n",
    "\n",
    "print(np.where(salarios > media, \"Acima da média\", \"Abaixo da Média\"))\n",
    "\n",
    "\n",
    "salarios = np.array([3000, 3500, 4000, 2000, 4500, 4000, 5000])\n",
    "\n",
    "\n",
    "ajuste_salario = np.where(\n",
    "    (salarios >= 3000) & (salarios <= 4500), salarios * 1.1, salarios\n",
    ")\n",
    "\n",
    "\n",
    "print(ajuste_salario)"
   ]
  }
 ],
 "metadata": {
  "kernelspec": {
   "display_name": "Python (analise_dados)",
   "language": "python",
   "name": "venv"
  },
  "language_info": {
   "codemirror_mode": {
    "name": "ipython",
    "version": 3
   },
   "file_extension": ".py",
   "mimetype": "text/x-python",
   "name": "python",
   "nbconvert_exporter": "python",
   "pygments_lexer": "ipython3",
   "version": "3.13.5"
  }
 },
 "nbformat": 4,
 "nbformat_minor": 5
}
