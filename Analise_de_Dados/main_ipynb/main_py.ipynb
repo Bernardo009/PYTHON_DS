{
 "cells": [
  {
   "cell_type": "markdown",
   "id": "b30ee6f2",
   "metadata": {},
   "source": [
    "# Notebook com exercícios de análise de dados usando pandas\n",
    "\n",
    "Este notebook contém exercícios práticos de análise de dados utilizando a biblioteca pandas."
   ]
  },
  {
   "cell_type": "markdown",
   "id": "dcc78294",
   "metadata": {},
   "source": [
    "## 1. Importar bibliotecas e carregar os dados\n",
    "\n",
    "Vamos importar o pandas e carregar o DataFrame `pedidos` a partir de um arquivo CSV."
   ]
  },
  {
   "cell_type": "code",
   "execution_count": null,
   "id": "f103d56f",
   "metadata": {},
   "outputs": [],
   "source": [
    "import pandas as pd\n",
    "\n",
    "# Carregar os dados do arquivo CSV\n",
    "pedidos = pd.read_csv('pedidos.csv')\n",
    "\n",
    "# Visualizar as primeiras linhas do DataFrame\n",
    "pedidos.head()"
   ]
  },
  {
   "cell_type": "markdown",
   "id": "6057361a",
   "metadata": {},
   "source": [
    "## 2. Vendedor com mais unidades vendidas\n",
    "\n",
    "Agrupe os dados por 'Vendedor', some a coluna 'Unidades', ordene e selecione o vendedor com maior valor."
   ]
  },
  {
   "cell_type": "code",
   "execution_count": null,
   "id": "13361c5b",
   "metadata": {},
   "outputs": [],
   "source": [
    "# Vendedor com mais unidades vendidas.\n",
    "vendedor_top = (\n",
    "    pedidos.groupby(\"Vendedor\")[\"Unidades\"]\n",
    "    .sum()\n",
    "    .reset_index()\n",
    "    .sort_values(by=\"Unidades\", ascending=False)\n",
    "    .head(1)\n",
    ")\n",
    "vendedor_top"
   ]
  },
  {
   "cell_type": "markdown",
   "id": "e8f7509e",
   "metadata": {},
   "source": [
    "## 3. Região com mais unidades vendidas\n",
    "\n",
    "Agrupe por 'Região', some 'Unidades', ordene e exiba a região com mais unidades vendidas."
   ]
  },
  {
   "cell_type": "code",
   "execution_count": null,
   "id": "806980e1",
   "metadata": {},
   "outputs": [],
   "source": [
    "# Região com mais unidades vendidas.\n",
    "regiao_top = (\n",
    "    pedidos.groupby(\"Região\")[\"Unidades\"]\n",
    "    .sum()\n",
    "    .reset_index()\n",
    "    .sort_values(by=\"Unidades\", ascending=False)\n",
    "    .head(1)\n",
    ")\n",
    "regiao_top"
   ]
  },
  {
   "cell_type": "markdown",
   "id": "105f7658",
   "metadata": {},
   "source": [
    "## 4. Item com mais unidades vendidas\n",
    "\n",
    "Agrupe por 'Item', some 'Unidades', ordene e exiba o item com mais unidades vendidas."
   ]
  },
  {
   "cell_type": "code",
   "execution_count": null,
   "id": "86f3ae62",
   "metadata": {},
   "outputs": [],
   "source": [
    "# Item com mais unidades vendidas.\n",
    "item_top = (\n",
    "    pedidos.groupby(\"Item\")[\"Unidades\"]\n",
    "    .sum()\n",
    "    .reset_index()\n",
    "    .sort_values(by=\"Unidades\", ascending=False)\n",
    "    .head(1)\n",
    ")\n",
    "item_top"
   ]
  },
  {
   "cell_type": "markdown",
   "id": "d8a93b9c",
   "metadata": {},
   "source": [
    "## 5. Estado com mais unidades vendidas\n",
    "\n",
    "Agrupe por 'Estado', some 'Unidades', ordene e exiba o estado com mais unidades vendidas."
   ]
  },
  {
   "cell_type": "code",
   "execution_count": null,
   "id": "92a4c9b0",
   "metadata": {},
   "outputs": [],
   "source": [
    "# Estado com mais unidades vendidas.\n",
    "estado_top = (\n",
    "    pedidos.groupby(\"Estado\")[\"Unidades\"]\n",
    "    .sum()\n",
    "    .reset_index()\n",
    "    .sort_values(by=\"Unidades\", ascending=False)\n",
    "    .head(1)\n",
    ")\n",
    "estado_top"
   ]
  },
  {
   "cell_type": "markdown",
   "id": "eec6e63a",
   "metadata": {},
   "source": [
    "## 6. Maior valor de venda\n",
    "\n",
    "Calcule o valor total de cada venda (por exemplo, 'Unidades' * 'Valor Unitário') e encontre o maior valor."
   ]
  },
  {
   "cell_type": "code",
   "execution_count": null,
   "id": "a589bb15",
   "metadata": {},
   "outputs": [],
   "source": [
    "# Maior valor de venda.\n",
    "pedidos[\"Valor Total\"] = pedidos[\"Unidades\"] * pedidos[\"Valor Unitário\"]\n",
    "maior_venda = pedidos[\"Valor Total\"].max()\n",
    "maior_venda"
   ]
  },
  {
   "cell_type": "markdown",
   "id": "1fc20509",
   "metadata": {},
   "source": [
    "## 7. Valor de venda por item\n",
    "\n",
    "Agrupe por 'Item' e calcule o valor total de vendas para cada item."
   ]
  },
  {
   "cell_type": "code",
   "execution_count": null,
   "id": "c5d81a82",
   "metadata": {},
   "outputs": [],
   "source": [
    "# Valor de venda por item.\n",
    "valor_venda_item = (\n",
    "    pedidos.groupby(\"Item\")[\"Valor Total\"]\n",
    "    .sum()\n",
    "    .reset_index()\n",
    "    .sort_values(by=\"Valor Total\", ascending=False)\n",
    ")\n",
    "valor_venda_item"
   ]
  }
 ],
 "metadata": {
  "language_info": {
   "name": "python"
  }
 },
 "nbformat": 4,
 "nbformat_minor": 5
}
