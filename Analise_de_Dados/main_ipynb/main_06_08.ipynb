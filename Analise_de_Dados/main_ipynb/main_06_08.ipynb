{
 "cells": [
  {
   "cell_type": "code",
   "execution_count": null,
   "id": "896faba4",
   "metadata": {},
   "outputs": [],
   "source": [
    "import numpy as np\n",
    "\n",
    "\n",
    "# Reshape\n",
    "vendas = np.array(\n",
    "    [200, 220, 250, 210, 300, 280, 230, 210, 220, 240, 230, 210, 280, 220]\n",
    ")\n",
    "\n",
    "vendas_r = np.reshape(vendas, (2, 7))\n",
    "\n",
    "print(vendas_r.ndim)\n",
    "\n",
    "print(vendas_r.shape)\n",
    "\n",
    "print(vendas[1])\n",
    "\n",
    "print(vendas[0][0])\n",
    "\n",
    "print(vendas_r.sum(axis=0))\n",
    "\n",
    "print(vendas_r.sum(axis=1))"
   ]
  },
  {
   "cell_type": "code",
   "execution_count": 1,
   "id": "36deb753",
   "metadata": {},
   "outputs": [
    {
     "name": "stdout",
     "output_type": "stream",
     "text": [
      "[ 36 160 138  99  98 175  35 146  56  37 115 196 153 157 149 162 112  43\n",
      " 171 101 110  87  53 187 161 136  92 168 118 100]\n",
      "[[ 36 160 138  99  98 175]\n",
      " [ 35 146  56  37 115 196]\n",
      " [153 157 149 162 112  43]\n",
      " [171 101 110  87  53 187]\n",
      " [161 136  92 168 118 100]]\n",
      "[706 585 776 709 775]\n"
     ]
    }
   ],
   "source": [
    "import numpy as np\n",
    "\n",
    "rng = np.random.default_rng(seed=42)\n",
    "\n",
    "vendas = rng.integers(low=20, high=200, size=30, endpoint=True)\n",
    "\n",
    "print(vendas)\n",
    "\n",
    "vendas_semana = np.reshape(vendas, (5, 6))\n",
    "\n",
    "print(vendas_semana)\n",
    "\n",
    "total_vendas_semana = vendas_semana.sum(axis=1)\n",
    "\n",
    "print(total_vendas_semana)"
   ]
  }
 ],
 "metadata": {
  "kernelspec": {
   "display_name": "Python (analise_dados)",
   "language": "python",
   "name": "venv"
  },
  "language_info": {
   "codemirror_mode": {
    "name": "ipython",
    "version": 3
   },
   "file_extension": ".py",
   "mimetype": "text/x-python",
   "name": "python",
   "nbconvert_exporter": "python",
   "pygments_lexer": "ipython3",
   "version": "3.13.5"
  }
 },
 "nbformat": 4,
 "nbformat_minor": 5
}
