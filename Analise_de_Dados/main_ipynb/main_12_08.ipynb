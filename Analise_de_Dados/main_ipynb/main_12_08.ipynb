{
 "cells": [
  {
   "cell_type": "code",
   "execution_count": null,
   "id": "856bf039",
   "metadata": {},
   "outputs": [],
   "source": [
    "# Tratamento de dados\n",
    "# sep\n",
    "# encoding\n",
    "\n",
    "import pandas as pd\n",
    "\n",
    "df = pd.read_csv(\"Pedidos.csv\", sep=\",\", encoding=\"utf-8\")\n",
    "\n",
    "display(df)"
   ]
  },
  {
   "cell_type": "code",
   "execution_count": null,
   "id": "79a7c5ab",
   "metadata": {},
   "outputs": [],
   "source": [
    "# remoção de colunas\n",
    "\n",
    "import pandas as pd\n",
    "\n",
    "df = pd.read_csv(\"Pedidos.csv\", sep=\",\", encoding=\"utf-8\")\n",
    "\n",
    "df_a = df.drop([\"DataPedido\"], axis=1)\n",
    "\n",
    "display(df_a)"
   ]
  },
  {
   "cell_type": "code",
   "execution_count": 7,
   "id": "0634c8a8",
   "metadata": {},
   "outputs": [],
   "source": [
    "import pandas as pd\n",
    "\n",
    "tabela = pd.read_excel(\"Dados.xlsx\")\n",
    "\n",
    "tabela[\"Faturamento\"] = tabela[\"Valor Unitario\"] * tabela[\"Quantidade\"]\n",
    "\n",
    "tabela[\"Lucro\"] = (\n",
    "    tabela[\"Faturamento\"] - tabela[\"Valor Unitario\"] * tabela[\"Quantidade\"]\n",
    ")\n",
    "\n",
    "tabela.loc[tabela[\"Item\"] == \"Camisa\", \"Valor Unitario\"] = 5.0\n",
    "\n",
    "tabela.to_excel(\"dados_pd.xlsx\", index=False)"
   ]
  },
  {
   "cell_type": "code",
   "execution_count": null,
   "id": "af1f802b",
   "metadata": {},
   "outputs": [],
   "source": [
    "# Openpyxl - xlsx\n",
    "\n",
    "from openpyxl import workbook, load_workbook\n",
    "\n",
    "tabela = load_workbook(\"Dados.xlsx\")\n",
    "\n",
    "planilha = tabela.Custo\n",
    "for celula in planilha[\"C\"]:\n",
    "    if celula.value == \"Chinelo\"\n",
    "    linha = celula.row\n",
    "    planilha[f\"B{linha}\"] = 250\n",
    "\n",
    "tabela.save(\"dados.xlsx\")"
   ]
  }
 ],
 "metadata": {
  "kernelspec": {
   "display_name": "analise_dados (3.13.5)",
   "language": "python",
   "name": "python3"
  },
  "language_info": {
   "codemirror_mode": {
    "name": "ipython",
    "version": 3
   },
   "file_extension": ".py",
   "mimetype": "text/x-python",
   "name": "python",
   "nbconvert_exporter": "python",
   "pygments_lexer": "ipython3",
   "version": "3.13.5"
  }
 },
 "nbformat": 4,
 "nbformat_minor": 5
}
