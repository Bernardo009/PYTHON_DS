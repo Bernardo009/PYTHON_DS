{
 "cells": [
  {
   "cell_type": "code",
   "execution_count": null,
   "id": "c022a576",
   "metadata": {},
   "outputs": [],
   "source": [
    "import pandas as pd\n",
    "\n",
    "# Traga apenas as primeiras 5 linhas do arquivo base vendas.xlsx utilizando o pandas\n",
    "\n",
    "df = pd.read_excel(\"Base Vendas.xlsx\")\n",
    "\n",
    "df[\"Valor Venda\"] = df[\"Quantidade\"] * df[\"Preço Unitário\"]\n",
    "\n",
    "display(df.head())"
   ]
  },
  {
   "cell_type": "code",
   "execution_count": null,
   "id": "4d5e1bbc",
   "metadata": {},
   "outputs": [],
   "source": [
    "import pandas as pd\n",
    "\n",
    "# Traga o nome de cada produto sem repetições\n",
    "\n",
    "produtos = pd.DataFrame(df[\"Produto\"].unique(), columns=[\"Produto\"])\n",
    "\n",
    "display(produtos)"
   ]
  },
  {
   "cell_type": "code",
   "execution_count": null,
   "id": "db4c37e9",
   "metadata": {},
   "outputs": [],
   "source": [
    "import pandas as pd\n",
    "\n",
    "# Utilize o pandas para trazer o total vendido por loja\n",
    "\n",
    "venda_loja = df.groupby(\"Loja\")[\"Valor Venda\"].sum()\n",
    "\n",
    "display(venda_loja)"
   ]
  },
  {
   "cell_type": "code",
   "execution_count": null,
   "id": "742d376f",
   "metadata": {},
   "outputs": [],
   "source": [
    "import pandas as pd\n",
    "\n",
    "# Ordene o total vendido por loja do maior valor para o menor valor\n",
    "\n",
    "venda_ordenada = venda_loja.sort_values(ascending=False)\n",
    "\n",
    "display(venda_ordenada)"
   ]
  },
  {
   "cell_type": "code",
   "execution_count": null,
   "id": "a13d0c6c",
   "metadata": {},
   "outputs": [],
   "source": [
    "import pandas as pd\n",
    "\n",
    "# Realize um filtro para trazer apenas as lojas com o total de vendas acima da média\n",
    "\n",
    "media_venda = venda_loja.mean()\n",
    "\n",
    "acima_media = venda_loja[venda_loja > media_venda]\n",
    "\n",
    "display(acima_media)"
   ]
  },
  {
   "cell_type": "code",
   "execution_count": null,
   "id": "ae942fbc",
   "metadata": {},
   "outputs": [],
   "source": [
    "# Realize a criação de um dicionario em python para armazenar os dados de varios produtos, o dicionario deve ter o nome do produto, a quantidade, o valor e a categoria, depois crie um arquivo.xlsx com os dados do dicinario utilizando o pandas\n",
    "# {\n",
    "#     nome: []\n",
    "# }\n",
    "\n",
    "# df.to_excel()\n",
    "\n",
    "import pandas as pd\n",
    "\n",
    "produtos = {\n",
    "    \"Nome\": [\"Arroz\", \"Pasta de dente\", \"Abacaxi\", \"Sabonete\"],\n",
    "    \"Quantidade\": [250, 320, 520, 750],\n",
    "    \"Valor\": [22.5, 3.5, 12.5, 1.99],\n",
    "    \"Categoria\": [\"grão\", \"higiene\", \"fruta\", \"higiene\"],\n",
    "}\n",
    "\n",
    "df = pd.DataFrame(produtos)\n",
    "\n",
    "df.to_excel(\"Estoque.xlsx\", index=False)"
   ]
  }
 ],
 "metadata": {
  "kernelspec": {
   "display_name": "venv",
   "language": "python",
   "name": "python3"
  },
  "language_info": {
   "codemirror_mode": {
    "name": "ipython",
    "version": 3
   },
   "file_extension": ".py",
   "mimetype": "text/x-python",
   "name": "python",
   "nbconvert_exporter": "python",
   "pygments_lexer": "ipython3",
   "version": "3.13.5"
  }
 },
 "nbformat": 4,
 "nbformat_minor": 5
}
