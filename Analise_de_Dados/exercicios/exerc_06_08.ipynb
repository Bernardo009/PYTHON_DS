{
 "cells": [
  {
   "cell_type": "code",
   "execution_count": 2,
   "id": "817eda4a",
   "metadata": {},
   "outputs": [
    {
     "name": "stdout",
     "output_type": "stream",
     "text": [
      "[207 225 216 234 244]\n"
     ]
    }
   ],
   "source": [
    "import numpy as np\n",
    "\n",
    "# Você é um gerente de vendas responsavel por três produtos diferentes (Produto A, Produto B, Produto C) nos ultimos 5 dias. As vendas de cada produto foram registradas em um array 2D numpy, onde cada linha representa um produto e cada coluna representa um dia. Sua tarefa é calcular as vendas totais para cada produto em cada dia. Utilize o seguinte array: vendas = np.array([50, 60, 70, 65, 80, 85, 90, 78, 92, 88, 72, 75, 68, 77, 76])\n",
    "\n",
    "vendas = np.array([50, 60, 70, 65, 80, 85, 90, 78, 92, 88, 72, 75, 68, 77, 76])\n",
    "\n",
    "produtos = np.reshape(vendas, (3, 5))\n",
    "\n",
    "venda_total = produtos.sum(axis=0)\n",
    "\n",
    "print(venda_total)"
   ]
  },
  {
   "cell_type": "code",
   "execution_count": null,
   "id": "642fd7ad",
   "metadata": {},
   "outputs": [
    {
     "name": "stdout",
     "output_type": "stream",
     "text": [
      "A media geral é: 4.695238095238095\n",
      "A media diaria:\n",
      "[5.46666667 6.         3.9        3.86666667 3.96666667 4.7\n",
      " 4.96666667]\n",
      "[[4 8 9 2 1 6 6 7 6 7 9 9 9 8 7 9 0 0 7 4 7 4 9 0 6 0 1 8 2 9]\n",
      " [3 7 9 3 9 7 9 2 5 7 9 2 4 7 8 9 2 9 1 8 8 9 8 7 5 5 0 9 9 0]\n",
      " [5 3 7 6 5 4 1 7 8 1 4 0 4 1 4 9 1 1 7 2 0 3 1 6 5 7 6 0 0 9]\n",
      " [7 7 8 3 5 1 0 5 2 5 8 2 2 1 3 7 6 6 0 8 7 2 5 7 0 0 2 0 6 1]\n",
      " [5 7 2 5 6 6 2 5 2 6 2 3 9 7 1 0 0 3 8 0 1 1 2 9 3 6 0 7 5 6]\n",
      " [9 5 0 7 5 6 0 5 8 5 4 5 0 3 8 6 2 4 0 6 7 4 6 7 7 6 6 0 3 7]\n",
      " [7 8 2 3 9 7 0 8 3 4 7 1 6 7 6 8 9 3 1 2 4 7 5 5 8 0 8 1 8 2]]\n"
     ]
    }
   ],
   "source": [
    "import numpy as np\n",
    "\n",
    "#  Você é um analista de dados em uma empresa e conduziu uma pesquisa de satisfação do cliente durante uma semana. Você pediu aos clientes para classificar seu nível de satisfação com o serviço em uma escala de 0 a 10. Você coletou respostas de 30 clientes por dia durante 7 dias, resultando em um total de 210 respostas. No entanto, os dados que você recebeu estão em um array de 1d de 210 elementos. Reorganize os dados de forma a ter as respostas por dia e faça uma análise descritiva básica, calculando a média geral de satisfação e a média diária.\n",
    "\n",
    "rng = np.random.default_rng(seed=9)\n",
    "\n",
    "respostas = rng.integers(low=0, high=10, size=210)\n",
    "\n",
    "resultado = np.reshape(respostas, (7, 30))\n",
    "\n",
    "\n",
    "media_geral = np.mean(resultado)\n",
    "\n",
    "media_diaria = resultado.mean(axis=1)\n",
    "\n",
    "\n",
    "print(f\"A media geral é: {media_geral}\")\n",
    "print(\n",
    "    f\"\"\"A media diaria:\n",
    "{media_diaria}\"\"\"\n",
    ")\n",
    "print(resultado)"
   ]
  }
 ],
 "metadata": {
  "kernelspec": {
   "display_name": "Python (analise_dados)",
   "language": "python",
   "name": "venv"
  },
  "language_info": {
   "codemirror_mode": {
    "name": "ipython",
    "version": 3
   },
   "file_extension": ".py",
   "mimetype": "text/x-python",
   "name": "python",
   "nbconvert_exporter": "python",
   "pygments_lexer": "ipython3",
   "version": "3.13.5"
  }
 },
 "nbformat": 4,
 "nbformat_minor": 5
}
